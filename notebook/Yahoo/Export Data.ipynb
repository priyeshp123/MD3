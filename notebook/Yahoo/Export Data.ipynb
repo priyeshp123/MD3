{
 "cells": [
  {
   "cell_type": "code",
   "execution_count": 1,
   "id": "12b3a85a",
   "metadata": {},
   "outputs": [],
   "source": [
    "import pandas as pd\n",
    "import numpy as np\n",
    "import seaborn as sns\n",
    "from os import listdir\n",
    "import re\n",
    "\n",
    "import csv\n",
    "import datetime\n",
    "import pickle\n",
    "import os"
   ]
  },
  {
   "cell_type": "code",
   "execution_count": 2,
   "id": "805f055b",
   "metadata": {},
   "outputs": [],
   "source": [
    "DATA_ROOT_DIR='/mnt/data/projects/MD3'\n",
    "PROJ_ROOT_DIR='/home/priyesh/projects/MD3'"
   ]
  },
  {
   "cell_type": "code",
   "execution_count": 3,
   "id": "783cdf11",
   "metadata": {},
   "outputs": [],
   "source": [
    "filepath=os.path.join(PROJ_ROOT_DIR,'pickle','yahoo_drop_data_details_stage5.pkl')\n",
    "drop_data_details = pd.read_pickle(filepath)"
   ]
  },
  {
   "cell_type": "code",
   "execution_count": 4,
   "id": "6f313fa2",
   "metadata": {},
   "outputs": [],
   "source": [
    "filepath=os.path.join(PROJ_ROOT_DIR,'pickle','yahoo_company_profile.pkl')    \n",
    "company_profile_data = pd.read_pickle(filepath)"
   ]
  },
  {
   "cell_type": "code",
   "execution_count": 5,
   "id": "bb23931b",
   "metadata": {},
   "outputs": [
    {
     "data": {
      "text/plain": [
       "dict_keys(['address1', 'city', 'state', 'zip', 'country', 'phone', 'website', 'industry', 'industryDisp', 'sector', 'longBusinessSummary', 'fullTimeEmployees', 'companyOfficers', 'auditRisk', 'boardRisk', 'compensationRisk', 'shareHolderRightsRisk', 'overallRisk', 'governanceEpochDate', 'compensationAsOfEpochDate', 'gics_sector'])"
      ]
     },
     "execution_count": 5,
     "metadata": {},
     "output_type": "execute_result"
    }
   ],
   "source": [
    "company_profile_data['CSCO'].keys()"
   ]
  },
  {
   "cell_type": "code",
   "execution_count": 14,
   "id": "c305852d",
   "metadata": {},
   "outputs": [],
   "source": [
    "ticker_list = list(company_profile_data.keys())\n",
    "row_list = []\n",
    "\n",
    "for ticker in ticker_list:\n",
    "    \n",
    "    row = {}\n",
    "    row['ticker'] = ticker\n",
    "    row['yahoo_industry'] = company_profile_data[ticker]['industry']\n",
    "    row['yahoo_sector'] = company_profile_data[ticker]['sector']\n",
    "    row_list.append(row)\n",
    "    \n",
    "df = pd.DataFrame(row_list) "
   ]
  },
  {
   "cell_type": "code",
   "execution_count": 7,
   "id": "5c33f365",
   "metadata": {},
   "outputs": [
    {
     "data": {
      "text/html": [
       "<div>\n",
       "<style scoped>\n",
       "    .dataframe tbody tr th:only-of-type {\n",
       "        vertical-align: middle;\n",
       "    }\n",
       "\n",
       "    .dataframe tbody tr th {\n",
       "        vertical-align: top;\n",
       "    }\n",
       "\n",
       "    .dataframe thead th {\n",
       "        text-align: right;\n",
       "    }\n",
       "</style>\n",
       "<table border=\"1\" class=\"dataframe\">\n",
       "  <thead>\n",
       "    <tr style=\"text-align: right;\">\n",
       "      <th></th>\n",
       "      <th>ticker</th>\n",
       "      <th>yahoo_industry</th>\n",
       "      <th>yahoo_sector</th>\n",
       "    </tr>\n",
       "  </thead>\n",
       "  <tbody>\n",
       "    <tr>\n",
       "      <th>0</th>\n",
       "      <td>AM</td>\n",
       "      <td>Oil &amp; Gas Midstream</td>\n",
       "      <td>Energy</td>\n",
       "    </tr>\n",
       "    <tr>\n",
       "      <th>1</th>\n",
       "      <td>AR</td>\n",
       "      <td>Oil &amp; Gas E&amp;P</td>\n",
       "      <td>Energy</td>\n",
       "    </tr>\n",
       "    <tr>\n",
       "      <th>2</th>\n",
       "      <td>APA</td>\n",
       "      <td>Oil &amp; Gas E&amp;P</td>\n",
       "      <td>Energy</td>\n",
       "    </tr>\n",
       "    <tr>\n",
       "      <th>3</th>\n",
       "      <td>BKR</td>\n",
       "      <td>Oil &amp; Gas Equipment &amp; Services</td>\n",
       "      <td>Energy</td>\n",
       "    </tr>\n",
       "    <tr>\n",
       "      <th>4</th>\n",
       "      <td>LNG</td>\n",
       "      <td>Oil &amp; Gas Midstream</td>\n",
       "      <td>Energy</td>\n",
       "    </tr>\n",
       "    <tr>\n",
       "      <th>...</th>\n",
       "      <td>...</td>\n",
       "      <td>...</td>\n",
       "      <td>...</td>\n",
       "    </tr>\n",
       "    <tr>\n",
       "      <th>843</th>\n",
       "      <td>VTRS</td>\n",
       "      <td>Drug Manufacturers—Specialty &amp; Generic</td>\n",
       "      <td>Healthcare</td>\n",
       "    </tr>\n",
       "    <tr>\n",
       "      <th>844</th>\n",
       "      <td>WAT</td>\n",
       "      <td>Diagnostics &amp; Research</td>\n",
       "      <td>Healthcare</td>\n",
       "    </tr>\n",
       "    <tr>\n",
       "      <th>845</th>\n",
       "      <td>WST</td>\n",
       "      <td>Medical Instruments &amp; Supplies</td>\n",
       "      <td>Healthcare</td>\n",
       "    </tr>\n",
       "    <tr>\n",
       "      <th>846</th>\n",
       "      <td>ZBH</td>\n",
       "      <td>Medical Devices</td>\n",
       "      <td>Healthcare</td>\n",
       "    </tr>\n",
       "    <tr>\n",
       "      <th>847</th>\n",
       "      <td>ZTS</td>\n",
       "      <td>Drug Manufacturers—Specialty &amp; Generic</td>\n",
       "      <td>Healthcare</td>\n",
       "    </tr>\n",
       "  </tbody>\n",
       "</table>\n",
       "<p>848 rows × 3 columns</p>\n",
       "</div>"
      ],
      "text/plain": [
       "    ticker                          yahoo_industry yahoo_sector\n",
       "0       AM                     Oil & Gas Midstream       Energy\n",
       "1       AR                           Oil & Gas E&P       Energy\n",
       "2      APA                           Oil & Gas E&P       Energy\n",
       "3      BKR          Oil & Gas Equipment & Services       Energy\n",
       "4      LNG                     Oil & Gas Midstream       Energy\n",
       "..     ...                                     ...          ...\n",
       "843   VTRS  Drug Manufacturers—Specialty & Generic   Healthcare\n",
       "844    WAT                  Diagnostics & Research   Healthcare\n",
       "845    WST          Medical Instruments & Supplies   Healthcare\n",
       "846    ZBH                         Medical Devices   Healthcare\n",
       "847    ZTS  Drug Manufacturers—Specialty & Generic   Healthcare\n",
       "\n",
       "[848 rows x 3 columns]"
      ]
     },
     "execution_count": 7,
     "metadata": {},
     "output_type": "execute_result"
    }
   ],
   "source": [
    "df"
   ]
  },
  {
   "cell_type": "code",
   "execution_count": 8,
   "id": "f90af1e8",
   "metadata": {},
   "outputs": [],
   "source": [
    "filepath=os.path.join(DATA_ROOT_DIR,'data/export','yahoo_company_industry.csv')    \n",
    "df.to_csv(filepath,index=False)"
   ]
  },
  {
   "cell_type": "code",
   "execution_count": 9,
   "id": "2115c4fd",
   "metadata": {},
   "outputs": [],
   "source": [
    "filepath=os.path.join(PROJ_ROOT_DIR,'pickle','yahoo_drop_data_details_stage5.pkl')\n",
    "drop_data_details = pd.read_pickle('/home/priyesh/projects/TS1/pickle/yahoo_drop_data_details_stage5.pkl')"
   ]
  },
  {
   "cell_type": "code",
   "execution_count": 10,
   "id": "1a93d955",
   "metadata": {},
   "outputs": [
    {
     "data": {
      "text/plain": [
       "dict_keys(['companies', 'industry', 'sector'])"
      ]
     },
     "execution_count": 10,
     "metadata": {},
     "output_type": "execute_result"
    }
   ],
   "source": [
    "drop_data_details.keys()"
   ]
  },
  {
   "cell_type": "code",
   "execution_count": 20,
   "id": "b01c7d37",
   "metadata": {},
   "outputs": [],
   "source": [
    "filepath=os.path.join(DATA_ROOT_DIR,'data/export','yahoo_drop_company.csv')    \n",
    "df = pd.DataFrame(drop_data_details['companies'])\n",
    "df.to_csv(filepath,index=False)"
   ]
  },
  {
   "cell_type": "code",
   "execution_count": 16,
   "id": "1b5150fa",
   "metadata": {},
   "outputs": [
    {
     "data": {
      "text/plain": [
       "array(['Oil & Gas Midstream', 'Oil & Gas E&P',\n",
       "       'Oil & Gas Equipment & Services', 'Oil & Gas Integrated',\n",
       "       'Lumber & Wood Production', 'Oil & Gas Refining & Marketing',\n",
       "       'Utilities—Regulated Gas', 'Utilities—Diversified',\n",
       "       'Utilities—Regulated Electric', 'Utilities—Regulated Water',\n",
       "       'Utilities—Renewable', 'Conglomerates',\n",
       "       'Utilities—Independent Power Producers',\n",
       "       'Electronic Gaming & Multimedia', 'Internet Content & Information',\n",
       "       'Telecom Services', 'Entertainment', 'Advertising Agencies',\n",
       "       'Broadcasting', 'Publishing', 'Travel Services',\n",
       "       'Software—Application', 'Farm Products', 'Grocery Stores',\n",
       "       'Tobacco', 'Discount Stores', 'Beverages—Brewers',\n",
       "       'Beverages—Wineries & Distilleries', 'Packaged Foods',\n",
       "       'Specialty Retail', 'Household & Personal Products',\n",
       "       'Beverages—Non-Alcoholic', 'Confectioners', 'Food Distribution',\n",
       "       'Packaging & Containers', 'Pharmaceutical Retailers',\n",
       "       'Specialty Chemicals', 'Aluminum',\n",
       "       'Medical Instruments & Supplies', 'Chemicals',\n",
       "       'Agricultural Inputs', 'Steel', 'Building Materials', 'Copper',\n",
       "       'Biotechnology', 'Building Products & Equipment',\n",
       "       'Other Industrial Metals & Mining', 'Gold', 'REIT—Office',\n",
       "       'REIT—Residential', 'REIT—Specialty', 'REIT—Industrial',\n",
       "       'REIT—Retail', 'Real Estate Services',\n",
       "       'REIT—Healthcare Facilities', 'REIT—Hotel & Motel',\n",
       "       'Real Estate—Diversified', 'REIT—Diversified',\n",
       "       'Electrical Equipment & Parts', 'Staffing & Employment Services',\n",
       "       'Engineering & Construction',\n",
       "       'Farm & Heavy Construction Machinery', 'Rental & Leasing Services',\n",
       "       'Airlines', 'Security & Protection Services', 'Auto Parts',\n",
       "       'Specialty Industrial Machinery', 'Aerospace & Defense',\n",
       "       'Consulting Services', 'Information Technology Services',\n",
       "       'Integrated Freight & Logistics', 'Specialty Business Services',\n",
       "       'Waste Management', 'Industrial Distribution', 'Railroads',\n",
       "       'Auto & Truck Dealerships', 'Financial Data & Stock Exchanges',\n",
       "       'Metal Fabrication', 'Scientific & Technical Instruments',\n",
       "       'Marine Shipping', 'Trucking', 'Tools & Accessories',\n",
       "       'Furnishings, Fixtures & Appliances', 'Personal Services', 'Solar',\n",
       "       'Software—Infrastructure', 'Semiconductors',\n",
       "       'Electronic Components', 'Consumer Electronics',\n",
       "       'Semiconductor Equipment & Materials', 'Computer Hardware',\n",
       "       'Electronics & Computer Distribution', 'Communication Equipment',\n",
       "       'Credit Services', 'Internet Retail', 'Resorts & Casinos',\n",
       "       'Recreational Vehicles', 'Apparel Retail', 'Luxury Goods',\n",
       "       'Restaurants', 'Lodging', 'Gambling', 'Apparel Manufacturing',\n",
       "       'Residential Construction', 'Footwear & Accessories',\n",
       "       'Home Improvement Retail', 'Auto Manufacturers',\n",
       "       'Education & Training Services', 'Leisure', 'Department Stores',\n",
       "       'Health Information Services', 'Medical Devices',\n",
       "       'Drug Manufacturers—General', 'Medical Care Facilities',\n",
       "       'Diagnostics & Research', 'Medical Distribution',\n",
       "       'Drug Manufacturers—Specialty & Generic', 'Healthcare Plans'],\n",
       "      dtype=object)"
      ]
     },
     "execution_count": 16,
     "metadata": {},
     "output_type": "execute_result"
    }
   ],
   "source": []
  },
  {
   "cell_type": "code",
   "execution_count": null,
   "id": "744d7662",
   "metadata": {},
   "outputs": [],
   "source": []
  }
 ],
 "metadata": {
  "kernelspec": {
   "display_name": "Python 3 (ipykernel)",
   "language": "python",
   "name": "python3"
  },
  "language_info": {
   "codemirror_mode": {
    "name": "ipython",
    "version": 3
   },
   "file_extension": ".py",
   "mimetype": "text/x-python",
   "name": "python",
   "nbconvert_exporter": "python",
   "pygments_lexer": "ipython3",
   "version": "3.9.12"
  }
 },
 "nbformat": 4,
 "nbformat_minor": 5
}
