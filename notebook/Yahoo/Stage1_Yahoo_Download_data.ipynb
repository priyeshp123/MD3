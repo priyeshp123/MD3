{
 "cells": [
  {
   "cell_type": "markdown",
   "metadata": {},
   "source": [
    "# Download Financial Statements for Russell 1000 companies\n",
    "\n",
    "In order to avoid overwhelming the server and possible failures, download in 4 chunks by \n",
    "grouping into sectors. \n",
    "\n",
    "Save each group manually befor downloading next batch."
   ]
  },
  {
   "cell_type": "code",
   "execution_count": 1,
   "metadata": {},
   "outputs": [],
   "source": [
    "import pickle\n",
    "from yahoofinancials import YahooFinancials\n",
    "import pandas as pd\n",
    "import numpy as np\n",
    "\n",
    "import re"
   ]
  },
  {
   "cell_type": "code",
   "execution_count": 2,
   "metadata": {},
   "outputs": [],
   "source": [
    "pd.set_option('display.max_rows', 500)\n",
    "pd.set_option('display.max_columns', 500)\n",
    "pd.set_option('display.max_colwidth', 100)\n",
    "pd.options.display.float_format = '{:.0f}'.format"
   ]
  },
  {
   "cell_type": "code",
   "execution_count": 3,
   "metadata": {},
   "outputs": [],
   "source": [
    "data_location = '/mnt/data/projects/TS1/data/R1000/Yahoo'"
   ]
  },
  {
   "cell_type": "code",
   "execution_count": 4,
   "metadata": {},
   "outputs": [],
   "source": [
    "# Get list of stocks from Russell 1000 Wikipedia page"
   ]
  },
  {
   "cell_type": "code",
   "execution_count": 5,
   "metadata": {},
   "outputs": [],
   "source": [
    "url = 'https://en.wikipedia.org/wiki/Russell_1000_Index'\n",
    "tables = pd.read_html(url)"
   ]
  },
  {
   "cell_type": "code",
   "execution_count": 6,
   "metadata": {},
   "outputs": [],
   "source": [
    "stock_list = tables[2]\n",
    "stock_list.columns = ['Company', 'Ticker', 'Sector', 'Industry']"
   ]
  },
  {
   "cell_type": "markdown",
   "metadata": {},
   "source": [
    "Yahoo recognises tickers where . is substituted by -. Eg. BRK.B is BRK-B in Yahoo.\n",
    "\n",
    "Also, are duplicate holdings representing different share classes. Eg. GOOG and GOOGL.\n",
    "\n",
    "Following is to resolve these."
   ]
  },
  {
   "cell_type": "code",
   "execution_count": 103,
   "metadata": {},
   "outputs": [
    {
     "name": "stdout",
     "output_type": "stream",
     "text": [
      "BRK.B\n",
      "BF.A\n",
      "BF.B\n",
      "HEI.A\n",
      "LEN.B\n",
      "UHAL.B\n",
      " \n",
      "Series([], Name: Ticker, dtype: object)\n",
      "Series([], Name: Ticker, dtype: object)\n",
      "Series([], Name: Ticker, dtype: object)\n",
      "436    HEI\n",
      "Name: Ticker, dtype: object\n",
      "536    LEN\n",
      "Name: Ticker, dtype: object\n",
      "902    UHAL\n",
      "Name: Ticker, dtype: object\n"
     ]
    }
   ],
   "source": [
    "# Identify tickers with full stop\n",
    "\n",
    "X = []\n",
    "\n",
    "for t in stock_list['Ticker']:\n",
    "    if re.search(\"\\.\",t):\n",
    "       print(t)\n",
    "       X.append(t.split(\".\")[0])\n",
    "\n",
    "# See if holding exists without the extension\n",
    "\n",
    "print(\" \")\n",
    "\n",
    "for t in X:\n",
    "   print(stock_list[stock_list['Ticker'] == t]['Ticker'])\n",
    "       "
   ]
  },
  {
   "cell_type": "markdown",
   "metadata": {},
   "source": [
    "We can remove HEI.B, LEN.B, BF.B and UHAL.B as they are essentially duplicates\n",
    "There are two tickers for Google, so remove one of them. ie. GOOGL.\n",
    "Convert BF.A to BF-A and BRK.B to BRK-B so that they are recognised by yahoo.\n",
    "\n",
    "Problem encountered while trying to download CAT and DOCS so drop these from stock_list.\n"
   ]
  },
  {
   "cell_type": "code",
   "execution_count": 105,
   "metadata": {},
   "outputs": [],
   "source": [
    "stock_list.loc[stock_list['Ticker'] == \"BRK.B\",\"Ticker\"] = \"BRK-B\"\n",
    "stock_list.loc[stock_list['Ticker'] == \"BF.A\",\"Ticker\"] = \"BF-A\"\n",
    "\n",
    "stock_list.drop(stock_list[stock_list['Ticker'] == \"HEI.A\"].index,axis=0, inplace=True)\n",
    "stock_list.drop(stock_list[stock_list['Ticker'] == \"BF.B\"].index,axis=0, inplace=True)\n",
    "stock_list.drop(stock_list[stock_list['Ticker'] == \"LEN.B\"].index,axis=0, inplace=True)\n",
    "stock_list.drop(stock_list[stock_list['Ticker'] == \"UHAL.B\"].index,axis=0, inplace=True)\n",
    "stock_list.drop(stock_list[stock_list['Ticker'] == \"GOOGL\"].index,axis=0, inplace=True)\n",
    "stock_list.drop(stock_list[stock_list['Ticker'] == \"CAT\"].index,axis=0, inplace=True)\n",
    "stock_list.drop(stock_list[stock_list['Ticker'] == \"DOCS\"].index,axis=0, inplace=True)"
   ]
  },
  {
   "cell_type": "code",
   "execution_count": 78,
   "metadata": {},
   "outputs": [
    {
     "data": {
      "text/html": [
       "<div>\n",
       "<style scoped>\n",
       "    .dataframe tbody tr th:only-of-type {\n",
       "        vertical-align: middle;\n",
       "    }\n",
       "\n",
       "    .dataframe tbody tr th {\n",
       "        vertical-align: top;\n",
       "    }\n",
       "\n",
       "    .dataframe thead th {\n",
       "        text-align: right;\n",
       "    }\n",
       "</style>\n",
       "<table border=\"1\" class=\"dataframe\">\n",
       "  <thead>\n",
       "    <tr style=\"text-align: right;\">\n",
       "      <th></th>\n",
       "      <th>Company</th>\n",
       "      <th>Ticker</th>\n",
       "      <th>Sector</th>\n",
       "      <th>Industry</th>\n",
       "      <th>TIcker</th>\n",
       "    </tr>\n",
       "  </thead>\n",
       "  <tbody>\n",
       "    <tr>\n",
       "      <th>152</th>\n",
       "      <td>Brown–Forman (Class A)</td>\n",
       "      <td>BF-A</td>\n",
       "      <td>Consumer Staples</td>\n",
       "      <td>Distillers &amp; Vintners</td>\n",
       "      <td>BF-A</td>\n",
       "    </tr>\n",
       "  </tbody>\n",
       "</table>\n",
       "</div>"
      ],
      "text/plain": [
       "                    Company Ticker            Sector               Industry   \n",
       "152  Brown–Forman (Class A)   BF-A  Consumer Staples  Distillers & Vintners  \\\n",
       "\n",
       "    TIcker  \n",
       "152   BF-A  "
      ]
     },
     "execution_count": 78,
     "metadata": {},
     "output_type": "execute_result"
    }
   ],
   "source": [
    "stock_list[stock_list['Ticker'] == \"BF-A\"]"
   ]
  },
  {
   "cell_type": "code",
   "execution_count": null,
   "metadata": {},
   "outputs": [],
   "source": [
    "## Download Data in groups"
   ]
  },
  {
   "cell_type": "code",
   "execution_count": 6,
   "metadata": {},
   "outputs": [
    {
     "data": {
      "text/plain": [
       "Sector\n",
       "Energy                     38\n",
       "Utilities                  40\n",
       "Communication Services     49\n",
       "Consumer Staples           56\n",
       "Materials                  58\n",
       "Real Estate                66\n",
       "Health Care               117\n",
       "Consumer Discretionary    122\n",
       "Information Technology    148\n",
       "Financials                151\n",
       "Industrials               161\n",
       "Name: Sector, dtype: int64"
      ]
     },
     "execution_count": 6,
     "metadata": {},
     "output_type": "execute_result"
    }
   ],
   "source": [
    "stock_list.groupby('Sector')['Sector'].count().sort_values()"
   ]
  },
  {
   "cell_type": "code",
   "execution_count": 83,
   "metadata": {},
   "outputs": [],
   "source": [
    "def download_data(ticker_list):\n",
    "\n",
    "  master_data = {}\n",
    "\n",
    "  cash_statements = {}\n",
    "  balance_statements = {}\n",
    "  income_statements = {}\n",
    "  company_profile = {}\n",
    "\n",
    "  for sector in ticker_list:\n",
    "    print(sector)\n",
    "    yahoo_financials = YahooFinancials(ticker_list[sector])\n",
    "    print('Getting cash statements - {}'.format(sector))\n",
    "    cash_statements[sector] = yahoo_financials.get_financial_stmts('annual', 'cash')\n",
    "    print('Getting balance statements - {}'.format(sector)) \n",
    "    balance_statements[sector] = yahoo_financials.get_financial_stmts('annual', 'balance')\n",
    "    print('Getting income statements - {}'.format(sector)) \n",
    "    income_statements[sector] = yahoo_financials.get_financial_stmts('annual', 'income')\n",
    "    print('Getting Company profile data - {}'.format(sector))\n",
    "    company_profile[sector] = yahoo_financials.get_stock_profile_data()\n",
    "  \n",
    "  master_data['cash'] = cash_statements\n",
    "  master_data['balance'] = balance_statements\n",
    "  master_data['income'] = income_statements\n",
    "  master_data['profile'] = company_profile\n",
    "\n",
    "  return master_data"
   ]
  },
  {
   "cell_type": "code",
   "execution_count": 90,
   "metadata": {},
   "outputs": [],
   "source": [
    "def save_data(group,master_data):\n",
    "    \n",
    "  with open(data_location + '/Yahoo_balance_statements_' + group + '.pkl','wb') as f:\n",
    "    pickle.dump(master_data['balance'], f)\n",
    "    \n",
    "  with open(data_location + '/Yahoo_income_statements_' + group + '.pkl','wb') as f:\n",
    "    pickle.dump(master_data['income'], f)\n",
    "    \n",
    "  with open(data_location + '/Yahoo_cash_statements_' + group + '.pkl','wb') as f:\n",
    "    pickle.dump(master_data['cash'], f)\n",
    "\n",
    "  with open(data_location + '/Yahoo_company_profile_' + group + '.pkl','wb') as f:\n",
    "    pickle.dump(master_data['profile'], f)\n"
   ]
  },
  {
   "cell_type": "markdown",
   "metadata": {},
   "source": [
    "### Group 1"
   ]
  },
  {
   "cell_type": "code",
   "execution_count": 84,
   "metadata": {},
   "outputs": [
    {
     "name": "stdout",
     "output_type": "stream",
     "text": [
      "Energy\n",
      "Getting cash statements - Energy\n",
      "Getting balance statements - Energy\n",
      "Getting income statements - Energy\n",
      "Getting Company profile data - Energy\n",
      "Utilities\n",
      "Getting cash statements - Utilities\n",
      "Getting balance statements - Utilities\n",
      "Getting income statements - Utilities\n",
      "Getting Company profile data - Utilities\n",
      "Communication Services\n",
      "Getting cash statements - Communication Services\n",
      "Getting balance statements - Communication Services\n",
      "Getting income statements - Communication Services\n",
      "Getting Company profile data - Communication Services\n"
     ]
    }
   ],
   "source": [
    "cash_statements = {}\n",
    "balance_statements = {}\n",
    "income_statements = {}\n",
    "company_profile = {}\n",
    "\n",
    "ticker_list = {}\n",
    "\n",
    "ticker_list['Energy'] = list(stock_list[stock_list['Sector'] == 'Energy' ]['Ticker'])\n",
    "ticker_list['Utilities'] = list(stock_list[stock_list['Sector'] == 'Utilities' ]['Ticker'])\n",
    "ticker_list['Communication Services'] = list(stock_list[stock_list['Sector'] == 'Communication Services']['Ticker'])\n",
    "\n",
    "master_data = download_data(ticker_list)"
   ]
  },
  {
   "cell_type": "code",
   "execution_count": 91,
   "metadata": {},
   "outputs": [],
   "source": [
    "save_data('g1',master_data)"
   ]
  },
  {
   "cell_type": "markdown",
   "metadata": {},
   "source": [
    "### Group 2"
   ]
  },
  {
   "cell_type": "code",
   "execution_count": 93,
   "metadata": {},
   "outputs": [
    {
     "name": "stdout",
     "output_type": "stream",
     "text": [
      "Consumer Staples\n",
      "Getting cash statements - Consumer Staples\n",
      "Getting balance statements - Consumer Staples\n",
      "Getting income statements - Consumer Staples\n",
      "Getting Company profile data - Consumer Staples\n",
      "Materials\n",
      "Getting cash statements - Materials\n",
      "Getting balance statements - Materials\n",
      "Getting income statements - Materials\n",
      "Getting Company profile data - Materials\n",
      "Real Estate\n",
      "Getting cash statements - Real Estate\n",
      "Getting balance statements - Real Estate\n",
      "Getting income statements - Real Estate\n",
      "Getting Company profile data - Real Estate\n"
     ]
    }
   ],
   "source": [
    "cash_statements = {}\n",
    "balance_statements = {}\n",
    "income_statements = {}\n",
    "company_profile = {}\n",
    "\n",
    "ticker_list = {}\n",
    "\n",
    "ticker_list['Consumer Staples'] = list(stock_list[stock_list['Sector'] == 'Consumer Staples' ]['Ticker'])\n",
    "ticker_list['Materials'] = list(stock_list[stock_list['Sector'] == 'Materials' ]['Ticker'])\n",
    "#ticker_list['Health Care'] = list(stock_list[stock_list['Sector'] == 'Health Care' ]['Ticker'])\n",
    "ticker_list['Real Estate'] = list(stock_list[stock_list['Sector'] == 'Real Estate' ]['Ticker'])\n",
    "\n",
    "master_data = download_data(ticker_list)"
   ]
  },
  {
   "cell_type": "code",
   "execution_count": 94,
   "metadata": {},
   "outputs": [],
   "source": [
    "save_data('g2',master_data)"
   ]
  },
  {
   "cell_type": "markdown",
   "metadata": {},
   "source": [
    "### Group 3"
   ]
  },
  {
   "cell_type": "code",
   "execution_count": 99,
   "metadata": {},
   "outputs": [
    {
     "name": "stdout",
     "output_type": "stream",
     "text": [
      "Industrials\n",
      "Getting cash statements - Industrials\n",
      "Getting balance statements - Industrials\n",
      "Getting income statements - Industrials\n",
      "Getting Company profile data - Industrials\n"
     ]
    },
    {
     "name": "stderr",
     "output_type": "stream",
     "text": [
      "WARNING:root:yahoofinancials ticker: CAT error getting profile - <class 'yahoofinancials.etl.ManagedException'>\n",
      "\tContinuing extraction...\n"
     ]
    },
    {
     "name": "stdout",
     "output_type": "stream",
     "text": [
      "Information Technology\n",
      "Getting cash statements - Information Technology\n",
      "Getting balance statements - Information Technology\n",
      "Getting income statements - Information Technology\n",
      "Getting Company profile data - Information Technology\n"
     ]
    }
   ],
   "source": [
    "cash_statements = {}\n",
    "balance_statements = {}\n",
    "income_statements = {}\n",
    "company_profile = {}\n",
    "\n",
    "ticker_list = {}\n",
    "\n",
    "ticker_list['Industrials'] = list(stock_list[stock_list['Sector'] == 'Industrials' ]['Ticker'])\n",
    "ticker_list['Information Technology'] = list(stock_list[stock_list['Sector'] == 'Information Technology' ]['Ticker'])\n",
    "\n",
    "master_data = download_data(ticker_list)"
   ]
  },
  {
   "cell_type": "code",
   "execution_count": 100,
   "metadata": {},
   "outputs": [],
   "source": [
    "save_data('g3',master_data)"
   ]
  },
  {
   "cell_type": "code",
   "execution_count": 7,
   "metadata": {},
   "outputs": [],
   "source": [
    "yahoo_financials = YahooFinancials(['F'])\n",
    "\n",
    "X1 = yahoo_financials.get_financial_stmts('annual', 'cash')\n",
    "\n",
    "X2 = yahoo_financials.get_financial_stmts('annual', 'balance')\n",
    "\n",
    "X3 = yahoo_financials.get_financial_stmts('annual', 'income')\n",
    "\n",
    "X4 = yahoo_financials.get_stock_profile_data()\n"
   ]
  },
  {
   "cell_type": "code",
   "execution_count": 9,
   "metadata": {},
   "outputs": [
    {
     "data": {
      "text/plain": [
       "{'address1': 'One American Road',\n",
       " 'city': 'Dearborn',\n",
       " 'state': 'MI',\n",
       " 'zip': '48126-1899',\n",
       " 'country': 'United States',\n",
       " 'phone': '313 322 3000',\n",
       " 'website': 'https://www.ford.com',\n",
       " 'industry': 'Auto Manufacturers',\n",
       " 'industryDisp': 'Auto Manufacturers',\n",
       " 'sector': 'Consumer Cyclical',\n",
       " 'longBusinessSummary': 'Ford Motor Company develops, delivers, and services a range of Ford trucks, commercial cars and vans, sport utility vehicles, and Lincoln luxury vehicles worldwide. It operates through Ford Blue, Ford Model e, and Ford Pro; Ford Next; and Ford Credit segments. The company sells Ford and Lincoln vehicles, service parts, and accessories through distributors and dealers, as well as through dealerships to commercial fleet customers, daily rental car companies, and governments. It also engages in vehicle-related financing and leasing activities to and through automotive dealers. In addition, the company provides retail installment sale contracts for new and used vehicles; and direct financing leases for new vehicles to retail and commercial customers, such as leasing companies, government entities, daily rental companies, and fleet customers. Further, it offers wholesale loans to dealers to finance the purchase of vehicle inventory; and loans to dealers to finance working capital and enhance dealership facilities, purchase dealership real estate, and other dealer vehicle programs. The company was incorporated in 1903 and is based in Dearborn, Michigan.',\n",
       " 'fullTimeEmployees': 173000,\n",
       " 'companyOfficers': [{'maxAge': 1,\n",
       "   'name': 'Mr. William Clay Ford Jr.',\n",
       "   'age': 65,\n",
       "   'title': 'Exec. Chairman',\n",
       "   'yearBorn': 1957,\n",
       "   'fiscalYear': 2022,\n",
       "   'totalPay': {'raw': 4454794, 'fmt': '4.45M', 'longFmt': '4,454,794'},\n",
       "   'exercisedValue': {'raw': 0, 'fmt': None, 'longFmt': '0'},\n",
       "   'unexercisedValue': {'raw': 3773581,\n",
       "    'fmt': '3.77M',\n",
       "    'longFmt': '3,773,581'}},\n",
       "  {'maxAge': 1,\n",
       "   'name': 'Mr. James D. Farley Jr.',\n",
       "   'age': 60,\n",
       "   'title': 'Pres, CEO & Director',\n",
       "   'yearBorn': 1962,\n",
       "   'fiscalYear': 2022,\n",
       "   'totalPay': {'raw': 5850765, 'fmt': '5.85M', 'longFmt': '5,850,765'},\n",
       "   'exercisedValue': {'raw': 1869342, 'fmt': '1.87M', 'longFmt': '1,869,342'},\n",
       "   'unexercisedValue': {'raw': 4878137,\n",
       "    'fmt': '4.88M',\n",
       "    'longFmt': '4,878,137'}},\n",
       "  {'maxAge': 1,\n",
       "   'name': 'Mr. John T. Lawler',\n",
       "   'age': 56,\n",
       "   'title': 'Interim Chief Global Supply Chain Officer, VP & CFO',\n",
       "   'yearBorn': 1966,\n",
       "   'fiscalYear': 2022,\n",
       "   'totalPay': {'raw': 2420308, 'fmt': '2.42M', 'longFmt': '2,420,308'},\n",
       "   'exercisedValue': {'raw': 81934, 'fmt': '81.93k', 'longFmt': '81,934'},\n",
       "   'unexercisedValue': {'raw': 0, 'fmt': None, 'longFmt': '0'}},\n",
       "  {'maxAge': 1,\n",
       "   'name': 'Mr. John Douglas Field',\n",
       "   'age': 56,\n",
       "   'title': 'Chief Advanced Product Devel. & Technology Officer',\n",
       "   'yearBorn': 1966,\n",
       "   'fiscalYear': 2022,\n",
       "   'totalPay': {'raw': 970892, 'fmt': '970.89k', 'longFmt': '970,892'},\n",
       "   'exercisedValue': {'raw': 0, 'fmt': None, 'longFmt': '0'},\n",
       "   'unexercisedValue': {'raw': 0, 'fmt': None, 'longFmt': '0'}},\n",
       "  {'maxAge': 1,\n",
       "   'name': 'Mr. Ashwani Kumar Galhotra',\n",
       "   'age': 57,\n",
       "   'title': 'Pres of Ford Blue',\n",
       "   'yearBorn': 1965,\n",
       "   'fiscalYear': 2022,\n",
       "   'totalPay': {'raw': 2160312, 'fmt': '2.16M', 'longFmt': '2,160,312'},\n",
       "   'exercisedValue': {'raw': 170586, 'fmt': '170.59k', 'longFmt': '170,586'},\n",
       "   'unexercisedValue': {'raw': 0, 'fmt': None, 'longFmt': '0'}},\n",
       "  {'maxAge': 1,\n",
       "   'name': 'Ms. Lynn Antipas Tyson',\n",
       "   'age': 59,\n",
       "   'title': 'Exec. Director of Investor Relations',\n",
       "   'yearBorn': 1963,\n",
       "   'exercisedValue': {'raw': 0, 'fmt': None, 'longFmt': '0'},\n",
       "   'unexercisedValue': {'raw': 0, 'fmt': None, 'longFmt': '0'}},\n",
       "  {'maxAge': 1,\n",
       "   'name': 'Mr. Steven P. Croley',\n",
       "   'age': 56,\n",
       "   'title': 'Chief Policy Officer & Gen. Counsel',\n",
       "   'yearBorn': 1966,\n",
       "   'exercisedValue': {'raw': 0, 'fmt': None, 'longFmt': '0'},\n",
       "   'unexercisedValue': {'raw': 0, 'fmt': None, 'longFmt': '0'}},\n",
       "  {'maxAge': 1,\n",
       "   'name': 'Ms. Beth A. Rose',\n",
       "   'title': 'Chief Compliance, Ethics & Integrity Officer',\n",
       "   'exercisedValue': {'raw': 0, 'fmt': None, 'longFmt': '0'},\n",
       "   'unexercisedValue': {'raw': 0, 'fmt': None, 'longFmt': '0'}},\n",
       "  {'maxAge': 1,\n",
       "   'name': 'Mr. Mark  Truby',\n",
       "   'age': 52,\n",
       "   'title': 'Chief Communications Officer',\n",
       "   'yearBorn': 1970,\n",
       "   'exercisedValue': {'raw': 0, 'fmt': None, 'longFmt': '0'},\n",
       "   'unexercisedValue': {'raw': 0, 'fmt': None, 'longFmt': '0'}},\n",
       "  {'maxAge': 1,\n",
       "   'name': 'Ms. Suzy  Deering',\n",
       "   'age': 52,\n",
       "   'title': 'Global Chief Marketing Officer',\n",
       "   'yearBorn': 1970,\n",
       "   'exercisedValue': {'raw': 0, 'fmt': None, 'longFmt': '0'},\n",
       "   'unexercisedValue': {'raw': 0, 'fmt': None, 'longFmt': '0'}}],\n",
       " 'auditRisk': 9,\n",
       " 'boardRisk': 8,\n",
       " 'compensationRisk': 7,\n",
       " 'shareHolderRightsRisk': 10,\n",
       " 'overallRisk': 10,\n",
       " 'governanceEpochDate': 1685577600,\n",
       " 'compensationAsOfEpochDate': 1672444800}"
      ]
     },
     "execution_count": 9,
     "metadata": {},
     "output_type": "execute_result"
    }
   ],
   "source": [
    "X4['F']"
   ]
  },
  {
   "cell_type": "markdown",
   "metadata": {},
   "source": [
    "### Group 4"
   ]
  },
  {
   "cell_type": "code",
   "execution_count": 106,
   "metadata": {},
   "outputs": [
    {
     "name": "stdout",
     "output_type": "stream",
     "text": [
      "Consumer Discretionary\n",
      "Getting cash statements - Consumer Discretionary\n",
      "Getting balance statements - Consumer Discretionary\n",
      "Getting income statements - Consumer Discretionary\n",
      "Getting Company profile data - Consumer Discretionary\n",
      "Health Care\n",
      "Getting cash statements - Health Care\n",
      "Getting balance statements - Health Care\n",
      "Getting income statements - Health Care\n",
      "Getting Company profile data - Health Care\n"
     ]
    }
   ],
   "source": [
    "cash_statements = {}\n",
    "balance_statements = {}\n",
    "income_statements = {}\n",
    "company_profile = {}\n",
    "\n",
    "ticker_list = {}\n",
    "\n",
    "ticker_list['Consumer Discretionary'] = list(stock_list[stock_list['Sector'] == 'Consumer Discretionary' ]['Ticker'])\n",
    "ticker_list['Health Care'] = list(stock_list[stock_list['Sector'] == 'Health Care' ]['Ticker'])\n",
    "\n",
    "master_data = download_data(ticker_list)"
   ]
  },
  {
   "cell_type": "code",
   "execution_count": 107,
   "metadata": {},
   "outputs": [],
   "source": [
    "save_data('g4',master_data)"
   ]
  },
  {
   "cell_type": "markdown",
   "metadata": {},
   "source": [
    "# Download Share Prices"
   ]
  },
  {
   "cell_type": "code",
   "execution_count": null,
   "metadata": {},
   "outputs": [],
   "source": [
    "ticker_list = {}\n",
    "#ticker_list['Communication Services'] = list(stock_list[stock_list['Sector'] == 'Communication Services']['Ticker'])\n",
    "#ticker_list['Consumer Staples'] = list(stock_list[stock_list['Sector'] == 'Consumer Staples' ]['Ticker'])\n",
    "#ticker_list['Industrials'] = list(stock_list[stock_list['Sector'] == 'Industrials' ]['Ticker'])\n",
    "#ticker_list['Information Technology'] = list(stock_list[stock_list['Sector'] == 'Information Technology' ]['Ticker'])\n",
    "#ticker_list['Health Care'] = list(stock_list[stock_list['Sector'] == 'Health Care' ]['Ticker'])\n",
    "ticker_list['Consumer Discretionary'] = list(stock_list[stock_list['Sector'] == 'Consumer Discretionary' ]['Ticker'])\n",
    "ticker_list['Materials'] = list(stock_list[stock_list['Sector'] == 'Materials' ]['Ticker'])\n",
    "ticker_list['Energy'] = list(stock_list[stock_list['Sector'] == 'Energy' ]['Ticker'])"
   ]
  },
  {
   "cell_type": "code",
   "execution_count": 9,
   "metadata": {},
   "outputs": [],
   "source": [
    "#yahoo_financials = YahooFinancials(['TSLA','WMT','INTC','F','T','PEP','KO'])\n",
    "\n",
    "yahoo_financials = YahooFinancials(['BRK-B',])\n",
    "stock_prices = yahoo_financials.get_stock_profile_data()"
   ]
  },
  {
   "cell_type": "code",
   "execution_count": 10,
   "metadata": {},
   "outputs": [
    {
     "data": {
      "text/plain": [
       "{'BRK-B': {'address1': '3555 Farnam Street',\n",
       "  'city': 'Omaha',\n",
       "  'state': 'NE',\n",
       "  'zip': '68131',\n",
       "  'country': 'United States',\n",
       "  'phone': '402 346 1400',\n",
       "  'fax': '402 346 3375',\n",
       "  'website': 'https://www.berkshirehathaway.com',\n",
       "  'industry': 'Insurance—Diversified',\n",
       "  'industryDisp': 'Insurance—Diversified',\n",
       "  'sector': 'Financial Services',\n",
       "  'longBusinessSummary': 'Berkshire Hathaway Inc., through its subsidiaries, engages in the insurance, freight rail transportation, and utility businesses worldwide. It provides property, casualty, life, accident, and health insurance and reinsurance; and operates railroad systems in North America. The company also generates, transmits, stores, and distributes electricity from natural gas, coal, wind, solar, hydroelectric, nuclear, and geothermal sources; operates natural gas distribution and storage facilities, interstate pipelines, liquefied natural gas facilities, and compressor and meter stations; and holds interest in coal mining assets. In addition, the company manufactures boxed chocolates and other confectionery products; specialty chemicals, metal cutting tools, and components for aerospace and power generation applications; flooring products; insulation, roofing, and engineered products; building and engineered components; paints and coatings; and bricks and masonry products, as well as offers manufactured and site-built home construction, and related lending and financial services. Further, it provides recreational vehicles, apparel and footwear products, jewelry, and custom picture framing products, as well as alkaline batteries; castings, forgings, fasteners/fastener systems, aerostructures, and precision components; and cobalt, nickel, and titanium alloys. Additionally, the company distributes televisions and information; franchises and services quick service restaurants; distributes electronic components; and offers logistics services, grocery and foodservice distribution services, and professional aviation training and shared aircraft ownership programs. It also retails automobiles; furniture, bedding, and accessories; household appliances, electronics, and computers; jewelry, watches, crystal, china, stemware, flatware, gifts, and collectibles; kitchenware; and motorcycle clothing and equipment. The company was incorporated in 1998 and is headquartered in Omaha, Nebraska.',\n",
       "  'fullTimeEmployees': 383000,\n",
       "  'companyOfficers': [{'maxAge': 1,\n",
       "    'name': 'Mr. Warren E. Buffett',\n",
       "    'age': 92,\n",
       "    'title': 'Chairman, CEO & Pres',\n",
       "    'yearBorn': 1930,\n",
       "    'fiscalYear': 2022,\n",
       "    'totalPay': {'raw': 401589, 'fmt': '401.59k', 'longFmt': '401,589'},\n",
       "    'exercisedValue': {'raw': 0, 'fmt': None, 'longFmt': '0'},\n",
       "    'unexercisedValue': {'raw': 0, 'fmt': None, 'longFmt': '0'}},\n",
       "   {'maxAge': 1,\n",
       "    'name': 'Mr. Charles Thomas Munger',\n",
       "    'age': 98,\n",
       "    'title': 'Exec. Vice Chairman',\n",
       "    'yearBorn': 1924,\n",
       "    'fiscalYear': 2022,\n",
       "    'totalPay': {'raw': 100000, 'fmt': '100k', 'longFmt': '100,000'},\n",
       "    'exercisedValue': {'raw': 0, 'fmt': None, 'longFmt': '0'},\n",
       "    'unexercisedValue': {'raw': 0, 'fmt': None, 'longFmt': '0'}},\n",
       "   {'maxAge': 1,\n",
       "    'name': 'Mr. Marc David Hamburg',\n",
       "    'age': 72,\n",
       "    'title': 'Sr. VP, CFO & Sec.',\n",
       "    'yearBorn': 1950,\n",
       "    'fiscalYear': 2022,\n",
       "    'totalPay': {'raw': 3584630, 'fmt': '3.58M', 'longFmt': '3,584,630'},\n",
       "    'exercisedValue': {'raw': 0, 'fmt': None, 'longFmt': '0'},\n",
       "    'unexercisedValue': {'raw': 0, 'fmt': None, 'longFmt': '0'}},\n",
       "   {'maxAge': 1,\n",
       "    'name': 'Mr. Ajit  Jain',\n",
       "    'age': 70,\n",
       "    'title': 'Vice Chairman of Insurance Operations & Director',\n",
       "    'yearBorn': 1952,\n",
       "    'fiscalYear': 2022,\n",
       "    'totalPay': {'raw': 19015250, 'fmt': '19.02M', 'longFmt': '19,015,250'},\n",
       "    'exercisedValue': {'raw': 0, 'fmt': None, 'longFmt': '0'},\n",
       "    'unexercisedValue': {'raw': 0, 'fmt': None, 'longFmt': '0'}},\n",
       "   {'maxAge': 1,\n",
       "    'name': 'Mr. Gregory Edward Abel',\n",
       "    'age': 60,\n",
       "    'title': 'Vice Chairman of Non Insurance Operations & Director',\n",
       "    'yearBorn': 1962,\n",
       "    'fiscalYear': 2022,\n",
       "    'totalPay': {'raw': 19015250, 'fmt': '19.02M', 'longFmt': '19,015,250'},\n",
       "    'exercisedValue': {'raw': 0, 'fmt': None, 'longFmt': '0'},\n",
       "    'unexercisedValue': {'raw': 0, 'fmt': None, 'longFmt': '0'}},\n",
       "   {'maxAge': 1,\n",
       "    'name': 'Mr. Daniel Jerome Jaksich',\n",
       "    'title': 'VP, Controller & Principal Accounting Officer',\n",
       "    'exercisedValue': {'raw': 0, 'fmt': None, 'longFmt': '0'},\n",
       "    'unexercisedValue': {'raw': 0, 'fmt': None, 'longFmt': '0'}},\n",
       "   {'maxAge': 1,\n",
       "    'name': 'Kerby S. Ham',\n",
       "    'title': 'Treasurer',\n",
       "    'exercisedValue': {'raw': 0, 'fmt': None, 'longFmt': '0'},\n",
       "    'unexercisedValue': {'raw': 0, 'fmt': None, 'longFmt': '0'}},\n",
       "   {'maxAge': 1,\n",
       "    'name': 'Mr. Peter James Eastwood',\n",
       "    'title': 'CEO & Pres of Specialty Insurance',\n",
       "    'exercisedValue': {'raw': 0, 'fmt': None, 'longFmt': '0'},\n",
       "    'unexercisedValue': {'raw': 0, 'fmt': None, 'longFmt': '0'}},\n",
       "   {'maxAge': 1,\n",
       "    'name': 'Ms. Kara Lee Raiguel',\n",
       "    'title': 'CEO & Pres of Gen. Re Unit',\n",
       "    'exercisedValue': {'raw': 0, 'fmt': None, 'longFmt': '0'},\n",
       "    'unexercisedValue': {'raw': 0, 'fmt': None, 'longFmt': '0'}}],\n",
       "  'auditRisk': 10,\n",
       "  'boardRisk': 10,\n",
       "  'compensationRisk': 10,\n",
       "  'shareHolderRightsRisk': 10,\n",
       "  'overallRisk': 10,\n",
       "  'governanceEpochDate': 1685577600,\n",
       "  'compensationAsOfEpochDate': 1672444800}}"
      ]
     },
     "execution_count": 10,
     "metadata": {},
     "output_type": "execute_result"
    }
   ],
   "source": [
    "stock_prices"
   ]
  },
  {
   "cell_type": "code",
   "execution_count": 118,
   "metadata": {},
   "outputs": [
    {
     "data": {
      "text/html": [
       "<div>\n",
       "<style scoped>\n",
       "    .dataframe tbody tr th:only-of-type {\n",
       "        vertical-align: middle;\n",
       "    }\n",
       "\n",
       "    .dataframe tbody tr th {\n",
       "        vertical-align: top;\n",
       "    }\n",
       "\n",
       "    .dataframe thead th {\n",
       "        text-align: right;\n",
       "    }\n",
       "</style>\n",
       "<table border=\"1\" class=\"dataframe\">\n",
       "  <thead>\n",
       "    <tr style=\"text-align: right;\">\n",
       "      <th></th>\n",
       "      <th>high</th>\n",
       "      <th>low</th>\n",
       "      <th>open</th>\n",
       "      <th>close</th>\n",
       "      <th>volume</th>\n",
       "      <th>adjclose</th>\n",
       "    </tr>\n",
       "    <tr>\n",
       "      <th>formatted_date</th>\n",
       "      <th></th>\n",
       "      <th></th>\n",
       "      <th></th>\n",
       "      <th></th>\n",
       "      <th></th>\n",
       "      <th></th>\n",
       "    </tr>\n",
       "  </thead>\n",
       "  <tbody>\n",
       "    <tr>\n",
       "      <th>2010-01-01</th>\n",
       "      <td>22</td>\n",
       "      <td>19</td>\n",
       "      <td>21</td>\n",
       "      <td>19</td>\n",
       "      <td>1509082400</td>\n",
       "      <td>13</td>\n",
       "    </tr>\n",
       "    <tr>\n",
       "      <th>2010-02-01</th>\n",
       "      <td>21</td>\n",
       "      <td>19</td>\n",
       "      <td>19</td>\n",
       "      <td>21</td>\n",
       "      <td>1125494400</td>\n",
       "      <td>14</td>\n",
       "    </tr>\n",
       "    <tr>\n",
       "      <th>2010-03-01</th>\n",
       "      <td>23</td>\n",
       "      <td>20</td>\n",
       "      <td>21</td>\n",
       "      <td>22</td>\n",
       "      <td>1290896200</td>\n",
       "      <td>15</td>\n",
       "    </tr>\n",
       "    <tr>\n",
       "      <th>2010-04-01</th>\n",
       "      <td>24</td>\n",
       "      <td>22</td>\n",
       "      <td>22</td>\n",
       "      <td>23</td>\n",
       "      <td>1550379100</td>\n",
       "      <td>15</td>\n",
       "    </tr>\n",
       "    <tr>\n",
       "      <th>2010-05-01</th>\n",
       "      <td>23</td>\n",
       "      <td>20</td>\n",
       "      <td>23</td>\n",
       "      <td>21</td>\n",
       "      <td>1830571300</td>\n",
       "      <td>14</td>\n",
       "    </tr>\n",
       "  </tbody>\n",
       "</table>\n",
       "</div>"
      ],
      "text/plain": [
       "                high  low  open  close      volume  adjclose\n",
       "formatted_date                                              \n",
       "2010-01-01        22   19    21     19  1509082400        13\n",
       "2010-02-01        21   19    19     21  1125494400        14\n",
       "2010-03-01        23   20    21     22  1290896200        15\n",
       "2010-04-01        24   22    22     23  1550379100        15\n",
       "2010-05-01        23   20    23     21  1830571300        14"
      ]
     },
     "execution_count": 118,
     "metadata": {},
     "output_type": "execute_result"
    }
   ],
   "source": [
    "df = pd.DataFrame(stock_prices['INTC']['prices'])\n",
    "df = df.drop('date',axis=1).set_index('formatted_date')\n",
    "df.head()"
   ]
  },
  {
   "cell_type": "code",
   "execution_count": 123,
   "metadata": {},
   "outputs": [
    {
     "data": {
      "text/plain": [
       "<Axes: xlabel='formatted_date'>"
      ]
     },
     "execution_count": 123,
     "metadata": {},
     "output_type": "execute_result"
    },
    {
     "data": {
      "image/png": "[encoded data removed]",
      "text/plain": [
       "<Figure size 640x480 with 1 Axes>"
      ]
     },
     "metadata": {},
     "output_type": "display_data"
    }
   ],
   "source": [
    "df['2021':]['close'].plot()"
   ]
  }
 ],
 "metadata": {
  "kernelspec": {
   "display_name": "Python 3 (ipykernel)",
   "language": "python",
   "name": "python3"
  },
  "language_info": {
   "codemirror_mode": {
    "name": "ipython",
    "version": 3
   },
   "file_extension": ".py",
   "mimetype": "text/x-python",
   "name": "python",
   "nbconvert_exporter": "python",
   "pygments_lexer": "ipython3",
   "version": "3.10.4"
  }
 },
 "nbformat": 4,
 "nbformat_minor": 2
}
