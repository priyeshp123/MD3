{
 "cells": [
  {
   "cell_type": "code",
   "execution_count": 1,
   "id": "99f617d3",
   "metadata": {},
   "outputs": [],
   "source": [
    "import pandas as pd\n",
    "import numpy as np\n",
    "import seaborn as sns\n",
    "from os import listdir\n",
    "import re\n",
    "\n",
    "import csv\n",
    "import datetime\n",
    "import pickle\n",
    "import os"
   ]
  },
  {
   "cell_type": "code",
   "execution_count": 1,
   "id": "c6a0e13c",
   "metadata": {},
   "outputs": [],
   "source": [
    "DATA_ROOT_DIR='/mnt/data/projects/MD3'\n",
    "PROJ_ROOT_DIR='/home/priyesh/projects/MD3'"
   ]
  },
  {
   "cell_type": "code",
   "execution_count": 2,
   "id": "daee3b35",
   "metadata": {},
   "outputs": [],
   "source": [
    "filepath=os.path.join(PROJ_ROOT_DIR,'pickle','yahoo_balance_sheets_final_stage3.pkl')\n",
    "balance_sheets = pd.read_pickle(filepath)\n",
    "filepath=os.path.join(PROJ_ROOT_DIR,'pickle','yahoo_income_sheets_final_stage3.pkl')\n",
    "income_sheets = pd.read_pickle(filepath)\n",
    "filepath=os.path.join(PROJ_ROOT_DIR,'pickle','yahoo_cash_sheets_final_stage3.pkl')\n",
    "cash_sheets = pd.read_pickle(filepath)"
   ]
  },
  {
   "cell_type": "code",
   "execution_count": 3,
   "id": "1cf22bb6",
   "metadata": {},
   "outputs": [],
   "source": [
    "filepath=os.path.join(PROJ_ROOT_DIR,'pickle','yahoo_drop_data_details_stage5.pkl')\n",
    "drop_data_details = pd.read_pickle('/home/priyesh/projects/TS1/pickle/yahoo_drop_data_details_stage5.pkl')"
   ]
  },
  {
   "cell_type": "code",
   "execution_count": 10,
   "id": "af21acf9",
   "metadata": {},
   "outputs": [],
   "source": [
    "drop_companies = list(set(drop_data_details['companies']))"
   ]
  },
  {
   "cell_type": "code",
   "execution_count": 18,
   "id": "080fc25c",
   "metadata": {},
   "outputs": [
    {
     "name": "stdout",
     "output_type": "stream",
     "text": [
      "UAA\n",
      "KD\n",
      "PARAA\n",
      "FOXA\n",
      "BEPC\n",
      "FWONA\n",
      "FDX\n",
      "PAYX\n",
      "UA\n",
      "LSXMA\n",
      "CTAS\n",
      "VTS\n",
      "LSXMK\n",
      "FWONK\n",
      "NWSA\n",
      "CHK\n",
      "ZG\n",
      "BKI\n",
      "FYBR\n",
      "CXT\n",
      "LW\n",
      "DNB\n",
      "CACI\n",
      "UHAL\n",
      "CAG\n",
      "ORCL\n",
      "DRI\n",
      "RGLD\n",
      "HRB\n",
      "DH\n",
      "LBRDK\n",
      "NKE\n",
      "BF-A\n",
      "OSK\n",
      "PYCR\n",
      "AZPN\n",
      "CSX\n",
      "RPM\n",
      "CASY\n",
      "GIS\n"
     ]
    }
   ],
   "source": [
    "for company in drop_companies:\n",
    "   print(company)\n",
    "   balance_sheets.drop(balance_sheets[balance_sheets['company'] == company].index, inplace=True, axis=0)\n",
    "   income_sheets.drop(income_sheets[income_sheets['company'] == company].index, inplace=True, axis=0)\n",
    "\n",
    "balance_sheets.drop(balance_sheets[balance_sheets['yahoo_sector'] == 'Real Estate'].index, inplace=True, axis=0)\n",
    "income_sheets.drop(income_sheets[income_sheets['yahoo_sector'] == 'Real Estate'].index, inplace=True, axis=0)\n",
    "cash_sheets.drop(cash_sheets[cash_sheets['yahoo_sector'] == 'Real Estate'].index, inplace=True, axis=0)\n",
    "\n",
    "balance_sheets.drop(balance_sheets[balance_sheets['industry'] == 'Healthcare Plans'].index, inplace=True, axis=0)\n",
    "income_sheets.drop(income_sheets[income_sheets['industry'] == 'Healthcare Plans'].index, inplace=True, axis=0)\n",
    "cash_sheets.drop(cash_sheets[cash_sheets['industry'] == 'Healthcare Plans'].index, inplace=True, axis=0)"
   ]
  },
  {
   "cell_type": "code",
   "execution_count": 21,
   "id": "c3a8ccac",
   "metadata": {},
   "outputs": [
    {
     "name": "stdout",
     "output_type": "stream",
     "text": [
      "Income sheets:  2892\n",
      "Cash sheets:  2944\n",
      "balance_sheets:  2892\n"
     ]
    }
   ],
   "source": [
    "print(\"Income sheets: \",len(income_sheets))\n",
    "print(\"Cash sheets: \",len(cash_sheets))\n",
    "print(\"balance_sheets: \", len(balance_sheets))"
   ]
  },
  {
   "cell_type": "code",
   "execution_count": null,
   "id": "6bb5eff4",
   "metadata": {},
   "outputs": [],
   "source": []
  }
 ],
 "metadata": {
  "kernelspec": {
   "display_name": "Python 3 (ipykernel)",
   "language": "python",
   "name": "python3"
  },
  "language_info": {
   "codemirror_mode": {
    "name": "ipython",
    "version": 3
   },
   "file_extension": ".py",
   "mimetype": "text/x-python",
   "name": "python",
   "nbconvert_exporter": "python",
   "pygments_lexer": "ipython3",
   "version": "3.9.12"
  }
 },
 "nbformat": 4,
 "nbformat_minor": 5
}
